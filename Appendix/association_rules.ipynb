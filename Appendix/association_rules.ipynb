{
 "cells": [
  {
   "cell_type": "markdown",
   "id": "7bbdfb49",
   "metadata": {},
   "source": [
    "## Libraries and Data Loading"
   ]
  },
  {
   "cell_type": "code",
   "execution_count": null,
   "id": "451f7d19",
   "metadata": {},
   "outputs": [],
   "source": [
    "# Required libraries\n",
    "# !pip install apyori\n",
    "# !pip install pyfpgrowth\n",
    "\n",
    "import numpy as np\n",
    "import pandas as pd\n",
    "from apyori import apriori\n",
    "import pyfpgrowth as fp"
   ]
  },
  {
   "cell_type": "code",
   "execution_count": null,
   "id": "681065e8",
   "metadata": {},
   "outputs": [],
   "source": [
    "# Importing data (via Machine Learning Quick Reference Book)\n",
    "data = pd.read_csv(\"data/Market_Basket_Optimisation.csv\", header=None)\n",
    "data.shape"
   ]
  },
  {
   "cell_type": "code",
   "execution_count": null,
   "id": "62e5f445",
   "metadata": {},
   "outputs": [],
   "source": [
    "data.head()"
   ]
  },
  {
   "cell_type": "markdown",
   "id": "2178a3f6",
   "metadata": {},
   "source": [
    "## Pre-Processing\n",
    "\n",
    "Apriori requires a list as input format, whereas we have a Pandas DataFrame here.\n",
    "We need to convert our DataFrame into a ``special`` list containing sub-lists, as follows:\n",
    "1. Iterate over all rows\n",
    "2. For each row, extract all the item-pairs from the columns"
   ]
  },
  {
   "cell_type": "code",
   "execution_count": null,
   "id": "438994ae",
   "metadata": {},
   "outputs": [],
   "source": [
    "# Let's create a transaction \"container\"\n",
    "transactions_list = []\n",
    "\n",
    "# Iterate over all rows and extract the transactions\n",
    "for i in range(data.shape[0]):\n",
    "    transactions_list.append([str(data.values[i,j]) for j in range(data.shape[1])\n",
    "                             if not pd.isna(data.values[i,j])])\n",
    "    \n",
    "# Let's take a look at the first transaction\n",
    "print(\", \".join(transactions_list[0]))"
   ]
  },
  {
   "cell_type": "markdown",
   "id": "e974a788",
   "metadata": {},
   "source": [
    "## Recap\n",
    "\n",
    "![img/rules.png](img/rules.png)"
   ]
  },
  {
   "cell_type": "markdown",
   "id": "963822ef",
   "metadata": {},
   "source": [
    "## Apriori Algorithm"
   ]
  },
  {
   "cell_type": "code",
   "execution_count": null,
   "id": "b14938d9",
   "metadata": {},
   "outputs": [],
   "source": [
    "# We can now train the apriori algorithm on our transactions list to get the rules based on the specified params\n",
    "rules_generator = apriori(transactions_list, min_support = 0.004, min_confidence = 0.2, min_lift = 3, min_length = 2)\n",
    "apriori_rules = list(rules_generator)\n",
    "\n",
    "# Let's take a look at the first rule\n",
    "apriori_rules[0]"
   ]
  },
  {
   "cell_type": "markdown",
   "id": "44018e4f",
   "metadata": {},
   "source": [
    "Some considerations on the first rule:\n",
    "* We have {'chicken', 'light cream'} with support=0.0045, confidence=0.291 and lift=4.84\n",
    "* items_base is {'light cream'} and items_add is {'chicken'}\n",
    "* There is 29% chance (confidence) that user will buy chicken if he has already bought light cream"
   ]
  },
  {
   "cell_type": "code",
   "execution_count": null,
   "id": "fff85513",
   "metadata": {},
   "outputs": [],
   "source": [
    "# Let's extract our rules and visualize them\n",
    "\n",
    "def inspect(results):\n",
    "    lhs         = [tuple(result [2] [0] [0]) [0] for result in results]\n",
    "    rhs         = [tuple(result [2] [0] [1]) [0] for result in results]\n",
    "    supports    = [result [1] for result in results]\n",
    "    confidences = [result [2] [0] [2]   for result in results]\n",
    "    lifts = [result [2] [0] [3]   for result in results]\n",
    "    \n",
    "    return list(zip(lhs,rhs,supports,confidences, lifts))\n",
    "\n",
    "df_results = pd.DataFrame(inspect(apriori_rules),\n",
    "                          columns = ['Left Hand Side', 'Right Hand Side', 'Support', 'Confidence', 'Lift'] )\n",
    "df_results.head()"
   ]
  },
  {
   "cell_type": "code",
   "execution_count": null,
   "id": "0d8e5f79",
   "metadata": {},
   "outputs": [],
   "source": [
    "# What are the top-5 rules for support, confidence or lift?\n",
    "df_results.nlargest(n=5, columns='Support')"
   ]
  },
  {
   "cell_type": "markdown",
   "id": "df0612ae",
   "metadata": {},
   "source": [
    "## FP-Growth Algorithm"
   ]
  },
  {
   "cell_type": "code",
   "execution_count": null,
   "id": "b0f5316a",
   "metadata": {},
   "outputs": [],
   "source": [
    "# Some dummy data\n",
    "transactions_list = [[\"bread\", \"butter\", \"cereal\"],\n",
    "                     [\"butter\", \"milk\"],\n",
    "                     [\"bread\", \"milk\"],\n",
    "                     [\"butter\", \"cereal\", \"milk\"],\n",
    "                     [\"egg\", \"bread\"],\n",
    "                     [\"egg\", \"butter\"],\n",
    "                     [\"cereal\", \"milk\"],\n",
    "                     [\"bread\", \"butter\", \"cereal\", \"egg\"],\n",
    "                     [\"cereal\", \"bread\", \"butter\"]]"
   ]
  },
  {
   "cell_type": "code",
   "execution_count": null,
   "id": "8cd9e7ee",
   "metadata": {},
   "outputs": [],
   "source": [
    "# Let's find the frequent patterns in baskets that occur over the support threshold\n",
    "frequent_patterns = fp.find_frequent_patterns(transactions=transactions_list, support_threshold=2)\n",
    "\n",
    "# We can now find patterns that are associated with another with a certain minimum confidence\n",
    "rules = fp.generate_association_rules(patterns=frequent_patterns, confidence_threshold=0.5)"
   ]
  },
  {
   "cell_type": "code",
   "execution_count": null,
   "id": "2b3c98a5",
   "metadata": {},
   "outputs": [],
   "source": [
    "# Let's inspect the association rules\n",
    "for left, right in rules.items():\n",
    "    left_items = \", \".join([item for item in left])\n",
    "    right_items = \", \".join([item for item in right[0]])\n",
    "    print(\"{} -> {} ({})\".format(left_items, right_items, round(right[1], 3)))"
   ]
  }
 ],
 "metadata": {
  "kernelspec": {
   "display_name": "Python 3 (ipykernel)",
   "language": "python",
   "name": "python3"
  },
  "language_info": {
   "codemirror_mode": {
    "name": "ipython",
    "version": 3
   },
   "file_extension": ".py",
   "mimetype": "text/x-python",
   "name": "python",
   "nbconvert_exporter": "python",
   "pygments_lexer": "ipython3",
   "version": "3.9.6"
  }
 },
 "nbformat": 4,
 "nbformat_minor": 5
}
